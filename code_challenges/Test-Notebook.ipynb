{
 "metadata": {
  "kernelspec": {
   "display_name": "Streamlit Notebook",
   "name": "streamlit"
  }
 },
 "nbformat_minor": 5,
 "nbformat": 4,
 "cells": [
  {
   "cell_type": "markdown",
   "id": "4240c6eb-fbf4-4b92-bc99-01cb714b2e98",
   "metadata": {
    "name": "cell6",
    "collapsed": false
   },
   "source": "# PreFit\n\nThis notebook was built in Snowflake Notebooks"
  },
  {
   "cell_type": "markdown",
   "id": "3aca5f30-34b0-4746-8384-6774d7787536",
   "metadata": {
    "name": "cell3",
    "collapsed": false
   },
   "source": "## 1. SQL"
  },
  {
   "cell_type": "markdown",
   "id": "5359ca24-6cca-458d-8a0d-828e4b63657f",
   "metadata": {
    "name": "cell4",
    "collapsed": false
   },
   "source": "### 1.1 Duplicate emails\n\nWrite a SQL query to report all the duplicate emails."
  },
  {
   "cell_type": "code",
   "id": "42673bf7-ec55-43a9-a6bd-472a7868175c",
   "metadata": {
    "language": "sql",
    "name": "cell5"
   },
   "outputs": [],
   "source": "-- DDL\nDROP TABLE IF EXISTS PERSONS;\nCREATE TABLE IF NOT EXISTS PERSONS (\n    id INTEGER,\n    email VARCHAR\n);\n\n-- DML\nINSERT INTO PERSONS (id, email) VALUES\n    (1, 'a@b.com'),\n    (2, 'c@d.com'),\n    (3, 'a@b.com');\n\nSELECT *\nFROM PERSONS;",
   "execution_count": null
  },
  {
   "cell_type": "code",
   "id": "ff8d6099-6ef4-4277-b1ce-4a859da0e698",
   "metadata": {
    "language": "sql",
    "name": "cell7",
    "codeCollapsed": false
   },
   "outputs": [],
   "source": "-- DQL\nSELECT email\nFROM PERSONS\nGROUP BY email\nHAVING COUNT(1) >= 2;",
   "execution_count": null
  },
  {
   "cell_type": "markdown",
   "id": "3f29d278-b7cb-405a-b317-cc0ac204818c",
   "metadata": {
    "name": "cell8",
    "collapsed": false
   },
   "source": "### 1.2 Distance between two points\n\nWrite a SQL query to report the shortest distance between any two points from the Point2D table. Round the difference to two decimal points\n\nFormula\n$$\ndistance = \\sqrt{(x_{2} - x_{1})^{2} + (y_{2} - y_{1})^{2}}\n$$"
  },
  {
   "cell_type": "code",
   "id": "f4ef2301-b1cf-4133-8ece-785f3afabb06",
   "metadata": {
    "language": "sql",
    "name": "cell14"
   },
   "outputs": [],
   "source": "-- DDL\nDROP TABLE IF EXISTS POINT2D;\nCREATE TABLE IF NOT EXISTS POINT2D (\n    x NUMERIC,\n    y NUMERIC\n);\n\nINSERT INTO POINT2D (x, y) VALUES\n    (-1, -1),\n    (0, 0),\n    (-1, -2);\n\nSELECT *\nFROM POINT2D;",
   "execution_count": null
  },
  {
   "cell_type": "code",
   "id": "0d33fe84-d10c-4aa2-b0cd-3115e3f22344",
   "metadata": {
    "language": "sql",
    "name": "cell15",
    "codeCollapsed": false
   },
   "outputs": [],
   "source": "-- DQL\nSELECT ROUND(SQRT(POW(point_1.x - point_2.x, 2) + POW(point_1.y - point_2.y, 2)), 2) AS shortest\nFROM POINT2D AS point_1, POINT2D AS point_2 -- Cartesian\nWHERE (point_1.x != point_2.x OR point_1.y != point_2.y)\nORDER BY 1 ASC\nLIMIT 1;",
   "execution_count": null
  },
  {
   "cell_type": "markdown",
   "id": "1171bc1c-5a6d-460e-81b3-7cf08176ad2b",
   "metadata": {
    "name": "cell9",
    "collapsed": false
   },
   "source": "### 1.3 Swap the seat id\n\nWrite a SQL query to swap the seat id of every two consecutive students. If the number of students is odd, the id of the last student is not swapped.\n\nReturn the result table ordered by `id` in ascending order.\n\nInput:\n```\n+----+---------+\n| id | student |\n+----+---------+\n| 1  | Abbot   |\n| 2  | Doris   |\n| 3  | Emerson |\n| 4  | Green   |\n| 5  | Jeames  |\n+----+---------+\n```\n\nOutput:\n```\n+----+---------+\n| id | student |\n+----+---------+\n| 1  | Doris   |\n| 2  | Abbot   |\n| 3  | Green   |\n| 4  | Emerson |\n| 5  | Jeames  |\n+----+---------+\n```"
  },
  {
   "cell_type": "code",
   "id": "a2e1d6e7-554d-487a-9e66-57f72580c5a8",
   "metadata": {
    "language": "sql",
    "name": "cell16"
   },
   "outputs": [],
   "source": "-- DDL\nDROP TABLE IF EXISTS SEAT;\nCREATE TABLE IF NOT EXISTS SEAT (\n    id INTEGER,\n    student VARCHAR\n);\n\nINSERT INTO SEAT (id, student) VALUES\n    (1, 'Abbot'),\n    (2, 'Doris'),\n    (3, 'Emerson'),\n    (4, 'Green'),\n    (5, 'Jeames');\n\nSELECT *\nFROM SEAT;",
   "execution_count": null
  },
  {
   "cell_type": "code",
   "id": "866493a7-0a3f-4727-bb16-5b96a1b793d8",
   "metadata": {
    "language": "sql",
    "name": "cell17"
   },
   "outputs": [],
   "source": "-- DQL\nSELECT \n    (CASE \n        WHEN id % 2 = 0 THEN id - 1 \n        WHEN id % 2 = 1 AND id < (SELECT COUNT(*) FROM Seat) THEN id + 1 \n        ELSE id \n    END) AS \"id\", student\nFROM Seat\nORDER BY 1;",
   "execution_count": null
  },
  {
   "cell_type": "markdown",
   "id": "3acfb11b-9bc6-4391-87b3-65985b0f220d",
   "metadata": {
    "name": "cell1",
    "collapsed": false
   },
   "source": "## 2. Algorithms"
  },
  {
   "cell_type": "markdown",
   "id": "b7011274-5c05-4dc2-992c-0eb4a63562ff",
   "metadata": {
    "name": "cell2",
    "collapsed": false
   },
   "source": "### 2.1 Roman to number\n\nRoman numerals are represented by seven different symbols: I, V, X, L, C, D and M.\n\nSymbol value:\n- I: 1\n- V: 5\n- X: 10\n- L: 50\n- C: 100\n- D: 500\n- M: 1000\n\nFor example, 2 is written as II in Roman numeral, just to ones added together. 12 is written as XII, which is simply X + II. The number 27 is written as XXVII, which is XX + V + II.\n\nRoman numerals are usually written largest to smallest from left to right. However, the numeral for four is not IIII. Instead, the number four is written as IV. Because the one is befjore the five we subtract it making four. The same principle applies to the number nine, which is written as IX.\n\nExample 1:\ninput: s = \"III\"; Output: 3\n\nExample 2:\ninput: s = \"LVIII\"; Output: 58\n\nExample 3:\ninput: s = \"MCMXCIV\"; Output: 1994\n"
  },
  {
   "cell_type": "code",
   "id": "e9474892-ad2c-41be-92b7-feecb6126a3c",
   "metadata": {
    "language": "python",
    "name": "cell13"
   },
   "outputs": [],
   "source": "def roman_to_number(roman: str) -> int:\n    # dict with roman numbers equivalent\n    roman_values = {\n        \"I\": 1,\n        \"V\": 5,\n        \"X\": 10,\n        \"L\": 50,\n        \"C\": 100,\n        \"D\": 500,\n        \"M\": 1000\n    }\n\n    # Result to return\n    result = 0\n\n    # Foor loop\n    for i in range(len(roman)):\n        # If isn't the last one\n        ## and if the current number is less than the next number\n        if i + 1 < len(roman) and roman_values[roman[i]] < roman_values[roman[i + 1]]:\n            result -= roman_values[roman[i]]\n        else:\n            result += roman_values[roman[i]]\n\n    return result\n    \n\n# Asserts for tests\nassert roman_to_number(\"III\") == 3\nassert roman_to_number(\"LVIII\") == 58\nassert roman_to_number(\"MCMXCIV\") == 1994\n\nprint(\"Algorithm runs successfully! :)\")",
   "execution_count": null
  },
  {
   "cell_type": "markdown",
   "id": "00c4f899-c7f9-404c-88d4-a33a93df7b81",
   "metadata": {
    "name": "cell10",
    "collapsed": false
   },
   "source": "### 2.2 Add two numbers up to target\n\nGiven an array of integer nums and an integer target, return indices of the two numbers such that they add up to target. You may assume that each input would have exactly one solution, and you may not use the same element twice.\n\nExample 1:\ninput: nums = [2,7,11,15], target = 9; Output: [0, 1]\n\nExample 2:\ninput: nums = [3,2,4]; target = 6; output: [1, 2]\n\nExample 3:\ninput: nums = [3, 3], target = 6; output: [0, 1]"
  },
  {
   "cell_type": "code",
   "id": "9abe4e1b-82a7-47a4-bce2-08dd528f68d4",
   "metadata": {
    "language": "python",
    "name": "cell11",
    "codeCollapsed": false
   },
   "outputs": [],
   "source": "def add_two_numbers(nums: list[int], target: int) -> list[int]:\n    # List to return\n    result = [0, 0]\n\n    # Store Target - number\n    difference_target = {}\n\n    # For loop\n    for i in range(len(nums)):\n        if target - nums[i] in difference_target:\n            result[0] = difference_target[target - nums[i]]\n            result[1] = i\n\n            # Exit the for loop\n            break\n        else:\n            difference_target[nums[i]] = i\n\n    \n    \n    return result\n\n# Asserts to validate\nassert add_two_numbers([2, 7, 11, 15], 9) == [0, 1]\nassert add_two_numbers([3, 2, 4], 6) == [1, 2]\nassert add_two_numbers([3, 3], 6) == [0, 1]\n\nprint(\"Algorithm runs successfully! :)\")",
   "execution_count": null
  },
  {
   "cell_type": "code",
   "id": "828929c8-4323-4911-981b-45019bc6d1f6",
   "metadata": {
    "language": "python",
    "name": "cell12",
    "codeCollapsed": false
   },
   "outputs": [],
   "source": "",
   "execution_count": null
  }
 ]
}